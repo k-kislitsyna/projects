{
 "cells": [
  {
   "cell_type": "code",
   "execution_count": 57,
   "id": "4ba598c9",
   "metadata": {},
   "outputs": [],
   "source": [
    "import pandas as pd\n",
    "import pandahouse as ph\n",
    "import numpy as np\n",
    "import matplotlib.pyplot as plt\n",
    "import seaborn as sns\n",
    "import scipy.stats as stats\n",
    "from scipy.stats import norm\n",
    "import statistics\n",
    "from tqdm.auto import tqdm\n",
    "import matplotlib.pyplot as plt\n",
    "from scipy.stats import chi2_contingency\n",
    "from scipy.stats import mannwhitneyu\n",
    "import requests"
   ]
  },
  {
   "cell_type": "code",
   "execution_count": 58,
   "id": "e1b80aee",
   "metadata": {},
   "outputs": [],
   "source": [
    "groups=pd.read_csv('./data/groups.csv',sep=';')\n",
    "groups_add=pd.read_csv('./data/groups_add.csv')\n",
    "active_studs=pd.read_csv('./data/active_studs.csv')\n",
    "checks=pd.read_csv('./data/checks.csv',sep=';')"
   ]
  },
  {
   "cell_type": "markdown",
   "id": "19765cf8",
   "metadata": {},
   "source": [
    "# Проект 2\n",
    "# 1. A/B–тестирование"
   ]
  },
  {
   "cell_type": "markdown",
   "id": "fd424082",
   "metadata": {},
   "source": [
    "# 1.1 Анализируем полученные данные"
   ]
  },
  {
   "cell_type": "code",
   "execution_count": 59,
   "id": "e5aac5e3",
   "metadata": {},
   "outputs": [
    {
     "data": {
      "text/html": [
       "<div>\n",
       "<style scoped>\n",
       "    .dataframe tbody tr th:only-of-type {\n",
       "        vertical-align: middle;\n",
       "    }\n",
       "\n",
       "    .dataframe tbody tr th {\n",
       "        vertical-align: top;\n",
       "    }\n",
       "\n",
       "    .dataframe thead th {\n",
       "        text-align: right;\n",
       "    }\n",
       "</style>\n",
       "<table border=\"1\" class=\"dataframe\">\n",
       "  <thead>\n",
       "    <tr style=\"text-align: right;\">\n",
       "      <th></th>\n",
       "      <th>id</th>\n",
       "      <th>grp</th>\n",
       "    </tr>\n",
       "  </thead>\n",
       "  <tbody>\n",
       "    <tr>\n",
       "      <th>0</th>\n",
       "      <td>1489</td>\n",
       "      <td>B</td>\n",
       "    </tr>\n",
       "    <tr>\n",
       "      <th>1</th>\n",
       "      <td>1627</td>\n",
       "      <td>A</td>\n",
       "    </tr>\n",
       "    <tr>\n",
       "      <th>2</th>\n",
       "      <td>1768</td>\n",
       "      <td>B</td>\n",
       "    </tr>\n",
       "    <tr>\n",
       "      <th>3</th>\n",
       "      <td>1783</td>\n",
       "      <td>B</td>\n",
       "    </tr>\n",
       "    <tr>\n",
       "      <th>4</th>\n",
       "      <td>1794</td>\n",
       "      <td>A</td>\n",
       "    </tr>\n",
       "  </tbody>\n",
       "</table>\n",
       "</div>"
      ],
      "text/plain": [
       "     id grp\n",
       "0  1489   B\n",
       "1  1627   A\n",
       "2  1768   B\n",
       "3  1783   B\n",
       "4  1794   A"
      ]
     },
     "execution_count": 59,
     "metadata": {},
     "output_type": "execute_result"
    }
   ],
   "source": [
    "groups.head()"
   ]
  },
  {
   "cell_type": "code",
   "execution_count": 60,
   "id": "8cefcbd9",
   "metadata": {},
   "outputs": [
    {
     "name": "stdout",
     "output_type": "stream",
     "text": [
      "<class 'pandas.core.frame.DataFrame'>\n",
      "RangeIndex: 74484 entries, 0 to 74483\n",
      "Data columns (total 2 columns):\n",
      " #   Column  Non-Null Count  Dtype \n",
      "---  ------  --------------  ----- \n",
      " 0   id      74484 non-null  int64 \n",
      " 1   grp     74484 non-null  object\n",
      "dtypes: int64(1), object(1)\n",
      "memory usage: 1.1+ MB\n"
     ]
    }
   ],
   "source": [
    "groups.info()"
   ]
  },
  {
   "cell_type": "code",
   "execution_count": 61,
   "id": "097b3eae",
   "metadata": {},
   "outputs": [
    {
     "data": {
      "text/html": [
       "<div>\n",
       "<style scoped>\n",
       "    .dataframe tbody tr th:only-of-type {\n",
       "        vertical-align: middle;\n",
       "    }\n",
       "\n",
       "    .dataframe tbody tr th {\n",
       "        vertical-align: top;\n",
       "    }\n",
       "\n",
       "    .dataframe thead th {\n",
       "        text-align: right;\n",
       "    }\n",
       "</style>\n",
       "<table border=\"1\" class=\"dataframe\">\n",
       "  <thead>\n",
       "    <tr style=\"text-align: right;\">\n",
       "      <th></th>\n",
       "      <th>id</th>\n",
       "      <th>grp</th>\n",
       "    </tr>\n",
       "  </thead>\n",
       "  <tbody>\n",
       "    <tr>\n",
       "      <th>0</th>\n",
       "      <td>5694584</td>\n",
       "      <td>B</td>\n",
       "    </tr>\n",
       "    <tr>\n",
       "      <th>1</th>\n",
       "      <td>5694830</td>\n",
       "      <td>B</td>\n",
       "    </tr>\n",
       "    <tr>\n",
       "      <th>2</th>\n",
       "      <td>5695057</td>\n",
       "      <td>B</td>\n",
       "    </tr>\n",
       "    <tr>\n",
       "      <th>3</th>\n",
       "      <td>5698872</td>\n",
       "      <td>B</td>\n",
       "    </tr>\n",
       "    <tr>\n",
       "      <th>4</th>\n",
       "      <td>5699067</td>\n",
       "      <td>B</td>\n",
       "    </tr>\n",
       "  </tbody>\n",
       "</table>\n",
       "</div>"
      ],
      "text/plain": [
       "        id grp\n",
       "0  5694584   B\n",
       "1  5694830   B\n",
       "2  5695057   B\n",
       "3  5698872   B\n",
       "4  5699067   B"
      ]
     },
     "execution_count": 61,
     "metadata": {},
     "output_type": "execute_result"
    }
   ],
   "source": [
    "groups_add.head()"
   ]
  },
  {
   "cell_type": "code",
   "execution_count": 62,
   "id": "d831b75c",
   "metadata": {},
   "outputs": [
    {
     "name": "stdout",
     "output_type": "stream",
     "text": [
      "<class 'pandas.core.frame.DataFrame'>\n",
      "RangeIndex: 92 entries, 0 to 91\n",
      "Data columns (total 2 columns):\n",
      " #   Column  Non-Null Count  Dtype \n",
      "---  ------  --------------  ----- \n",
      " 0   id      92 non-null     int64 \n",
      " 1   grp     92 non-null     object\n",
      "dtypes: int64(1), object(1)\n",
      "memory usage: 1.6+ KB\n"
     ]
    }
   ],
   "source": [
    "groups_add.info()"
   ]
  },
  {
   "cell_type": "code",
   "execution_count": 63,
   "id": "f3509ef3",
   "metadata": {},
   "outputs": [
    {
     "data": {
      "text/html": [
       "<div>\n",
       "<style scoped>\n",
       "    .dataframe tbody tr th:only-of-type {\n",
       "        vertical-align: middle;\n",
       "    }\n",
       "\n",
       "    .dataframe tbody tr th {\n",
       "        vertical-align: top;\n",
       "    }\n",
       "\n",
       "    .dataframe thead th {\n",
       "        text-align: right;\n",
       "    }\n",
       "</style>\n",
       "<table border=\"1\" class=\"dataframe\">\n",
       "  <thead>\n",
       "    <tr style=\"text-align: right;\">\n",
       "      <th></th>\n",
       "      <th>student_id</th>\n",
       "    </tr>\n",
       "  </thead>\n",
       "  <tbody>\n",
       "    <tr>\n",
       "      <th>0</th>\n",
       "      <td>581585</td>\n",
       "    </tr>\n",
       "    <tr>\n",
       "      <th>1</th>\n",
       "      <td>5723133</td>\n",
       "    </tr>\n",
       "    <tr>\n",
       "      <th>2</th>\n",
       "      <td>3276743</td>\n",
       "    </tr>\n",
       "    <tr>\n",
       "      <th>3</th>\n",
       "      <td>4238589</td>\n",
       "    </tr>\n",
       "    <tr>\n",
       "      <th>4</th>\n",
       "      <td>4475369</td>\n",
       "    </tr>\n",
       "  </tbody>\n",
       "</table>\n",
       "</div>"
      ],
      "text/plain": [
       "   student_id\n",
       "0      581585\n",
       "1     5723133\n",
       "2     3276743\n",
       "3     4238589\n",
       "4     4475369"
      ]
     },
     "execution_count": 63,
     "metadata": {},
     "output_type": "execute_result"
    }
   ],
   "source": [
    "active_studs.head()"
   ]
  },
  {
   "cell_type": "code",
   "execution_count": 64,
   "id": "efeb576a",
   "metadata": {},
   "outputs": [
    {
     "name": "stdout",
     "output_type": "stream",
     "text": [
      "<class 'pandas.core.frame.DataFrame'>\n",
      "RangeIndex: 8341 entries, 0 to 8340\n",
      "Data columns (total 1 columns):\n",
      " #   Column      Non-Null Count  Dtype\n",
      "---  ------      --------------  -----\n",
      " 0   student_id  8341 non-null   int64\n",
      "dtypes: int64(1)\n",
      "memory usage: 65.3 KB\n"
     ]
    }
   ],
   "source": [
    "active_studs.info()"
   ]
  },
  {
   "cell_type": "code",
   "execution_count": 65,
   "id": "aa27fa4d",
   "metadata": {},
   "outputs": [
    {
     "data": {
      "text/html": [
       "<div>\n",
       "<style scoped>\n",
       "    .dataframe tbody tr th:only-of-type {\n",
       "        vertical-align: middle;\n",
       "    }\n",
       "\n",
       "    .dataframe tbody tr th {\n",
       "        vertical-align: top;\n",
       "    }\n",
       "\n",
       "    .dataframe thead th {\n",
       "        text-align: right;\n",
       "    }\n",
       "</style>\n",
       "<table border=\"1\" class=\"dataframe\">\n",
       "  <thead>\n",
       "    <tr style=\"text-align: right;\">\n",
       "      <th></th>\n",
       "      <th>student_id</th>\n",
       "      <th>rev</th>\n",
       "    </tr>\n",
       "  </thead>\n",
       "  <tbody>\n",
       "    <tr>\n",
       "      <th>0</th>\n",
       "      <td>1627</td>\n",
       "      <td>990.0</td>\n",
       "    </tr>\n",
       "    <tr>\n",
       "      <th>1</th>\n",
       "      <td>3185</td>\n",
       "      <td>690.0</td>\n",
       "    </tr>\n",
       "    <tr>\n",
       "      <th>2</th>\n",
       "      <td>25973</td>\n",
       "      <td>690.0</td>\n",
       "    </tr>\n",
       "    <tr>\n",
       "      <th>3</th>\n",
       "      <td>26280</td>\n",
       "      <td>690.0</td>\n",
       "    </tr>\n",
       "    <tr>\n",
       "      <th>4</th>\n",
       "      <td>100300</td>\n",
       "      <td>990.0</td>\n",
       "    </tr>\n",
       "  </tbody>\n",
       "</table>\n",
       "</div>"
      ],
      "text/plain": [
       "   student_id    rev\n",
       "0        1627  990.0\n",
       "1        3185  690.0\n",
       "2       25973  690.0\n",
       "3       26280  690.0\n",
       "4      100300  990.0"
      ]
     },
     "execution_count": 65,
     "metadata": {},
     "output_type": "execute_result"
    }
   ],
   "source": [
    "checks.head()"
   ]
  },
  {
   "cell_type": "code",
   "execution_count": 66,
   "id": "b1a6dbef",
   "metadata": {},
   "outputs": [
    {
     "name": "stdout",
     "output_type": "stream",
     "text": [
      "<class 'pandas.core.frame.DataFrame'>\n",
      "RangeIndex: 541 entries, 0 to 540\n",
      "Data columns (total 2 columns):\n",
      " #   Column      Non-Null Count  Dtype  \n",
      "---  ------      --------------  -----  \n",
      " 0   student_id  541 non-null    int64  \n",
      " 1   rev         541 non-null    float64\n",
      "dtypes: float64(1), int64(1)\n",
      "memory usage: 8.6 KB\n"
     ]
    }
   ],
   "source": [
    "checks.info()"
   ]
  },
  {
   "cell_type": "markdown",
   "id": "1e71424d",
   "metadata": {},
   "source": [
    "В представленных 4 датафреймах удовлетворяющий нас тип данных и отсутствуют пропущенные значения."
   ]
  },
  {
   "cell_type": "code",
   "execution_count": 67,
   "id": "c65ecb42",
   "metadata": {},
   "outputs": [
    {
     "data": {
      "text/html": [
       "<div>\n",
       "<style scoped>\n",
       "    .dataframe tbody tr th:only-of-type {\n",
       "        vertical-align: middle;\n",
       "    }\n",
       "\n",
       "    .dataframe tbody tr th {\n",
       "        vertical-align: top;\n",
       "    }\n",
       "\n",
       "    .dataframe thead th {\n",
       "        text-align: right;\n",
       "    }\n",
       "</style>\n",
       "<table border=\"1\" class=\"dataframe\">\n",
       "  <thead>\n",
       "    <tr style=\"text-align: right;\">\n",
       "      <th></th>\n",
       "      <th>student_id</th>\n",
       "      <th>rev</th>\n",
       "      <th>count</th>\n",
       "    </tr>\n",
       "  </thead>\n",
       "  <tbody>\n",
       "  </tbody>\n",
       "</table>\n",
       "</div>"
      ],
      "text/plain": [
       "Empty DataFrame\n",
       "Columns: [student_id, rev, count]\n",
       "Index: []"
      ]
     },
     "execution_count": 67,
     "metadata": {},
     "output_type": "execute_result"
    }
   ],
   "source": [
    "# проверяем, есть ли в датафрейме пользователи с несколькими покупками, таких нет\n",
    "checks.groupby('student_id').value_counts().reset_index().rename(columns={0:'count'}).query('count > 1')"
   ]
  },
  {
   "cell_type": "code",
   "execution_count": 68,
   "id": "44cb0a1c",
   "metadata": {},
   "outputs": [
    {
     "data": {
      "text/html": [
       "<div>\n",
       "<style scoped>\n",
       "    .dataframe tbody tr th:only-of-type {\n",
       "        vertical-align: middle;\n",
       "    }\n",
       "\n",
       "    .dataframe tbody tr th {\n",
       "        vertical-align: top;\n",
       "    }\n",
       "\n",
       "    .dataframe thead th {\n",
       "        text-align: right;\n",
       "    }\n",
       "</style>\n",
       "<table border=\"1\" class=\"dataframe\">\n",
       "  <thead>\n",
       "    <tr style=\"text-align: right;\">\n",
       "      <th></th>\n",
       "      <th>student_id</th>\n",
       "      <th>grp</th>\n",
       "    </tr>\n",
       "  </thead>\n",
       "  <tbody>\n",
       "    <tr>\n",
       "      <th>0</th>\n",
       "      <td>1489</td>\n",
       "      <td>B</td>\n",
       "    </tr>\n",
       "    <tr>\n",
       "      <th>1</th>\n",
       "      <td>1627</td>\n",
       "      <td>A</td>\n",
       "    </tr>\n",
       "    <tr>\n",
       "      <th>2</th>\n",
       "      <td>1768</td>\n",
       "      <td>B</td>\n",
       "    </tr>\n",
       "    <tr>\n",
       "      <th>3</th>\n",
       "      <td>1783</td>\n",
       "      <td>B</td>\n",
       "    </tr>\n",
       "    <tr>\n",
       "      <th>4</th>\n",
       "      <td>1794</td>\n",
       "      <td>A</td>\n",
       "    </tr>\n",
       "    <tr>\n",
       "      <th>...</th>\n",
       "      <td>...</td>\n",
       "      <td>...</td>\n",
       "    </tr>\n",
       "    <tr>\n",
       "      <th>74571</th>\n",
       "      <td>200247820</td>\n",
       "      <td>B</td>\n",
       "    </tr>\n",
       "    <tr>\n",
       "      <th>74572</th>\n",
       "      <td>201032527</td>\n",
       "      <td>B</td>\n",
       "    </tr>\n",
       "    <tr>\n",
       "      <th>74573</th>\n",
       "      <td>201067612</td>\n",
       "      <td>B</td>\n",
       "    </tr>\n",
       "    <tr>\n",
       "      <th>74574</th>\n",
       "      <td>201067653</td>\n",
       "      <td>B</td>\n",
       "    </tr>\n",
       "    <tr>\n",
       "      <th>74575</th>\n",
       "      <td>201067659</td>\n",
       "      <td>B</td>\n",
       "    </tr>\n",
       "  </tbody>\n",
       "</table>\n",
       "<p>74576 rows × 2 columns</p>\n",
       "</div>"
      ],
      "text/plain": [
       "       student_id grp\n",
       "0            1489   B\n",
       "1            1627   A\n",
       "2            1768   B\n",
       "3            1783   B\n",
       "4            1794   A\n",
       "...           ...  ..\n",
       "74571   200247820   B\n",
       "74572   201032527   B\n",
       "74573   201067612   B\n",
       "74574   201067653   B\n",
       "74575   201067659   B\n",
       "\n",
       "[74576 rows x 2 columns]"
      ]
     },
     "execution_count": 68,
     "metadata": {},
     "output_type": "execute_result"
    }
   ],
   "source": [
    "# объединяем 2 датафрейма с группами пользователей\n",
    "all_groups=pd.concat([groups, groups_add]).reset_index().drop(columns=['index']).rename(columns={'id': 'student_id'})\n",
    "all_groups"
   ]
  },
  {
   "cell_type": "code",
   "execution_count": 69,
   "id": "7ada4e46",
   "metadata": {},
   "outputs": [
    {
     "data": {
      "text/html": [
       "<div>\n",
       "<style scoped>\n",
       "    .dataframe tbody tr th:only-of-type {\n",
       "        vertical-align: middle;\n",
       "    }\n",
       "\n",
       "    .dataframe tbody tr th {\n",
       "        vertical-align: top;\n",
       "    }\n",
       "\n",
       "    .dataframe thead th {\n",
       "        text-align: right;\n",
       "    }\n",
       "</style>\n",
       "<table border=\"1\" class=\"dataframe\">\n",
       "  <thead>\n",
       "    <tr style=\"text-align: right;\">\n",
       "      <th></th>\n",
       "      <th>student_id</th>\n",
       "      <th>grp</th>\n",
       "      <th>rev</th>\n",
       "    </tr>\n",
       "  </thead>\n",
       "  <tbody>\n",
       "    <tr>\n",
       "      <th>0</th>\n",
       "      <td>1489</td>\n",
       "      <td>B</td>\n",
       "      <td>0.0</td>\n",
       "    </tr>\n",
       "    <tr>\n",
       "      <th>1</th>\n",
       "      <td>1627</td>\n",
       "      <td>A</td>\n",
       "      <td>990.0</td>\n",
       "    </tr>\n",
       "    <tr>\n",
       "      <th>2</th>\n",
       "      <td>1768</td>\n",
       "      <td>B</td>\n",
       "      <td>0.0</td>\n",
       "    </tr>\n",
       "    <tr>\n",
       "      <th>3</th>\n",
       "      <td>1783</td>\n",
       "      <td>B</td>\n",
       "      <td>0.0</td>\n",
       "    </tr>\n",
       "    <tr>\n",
       "      <th>4</th>\n",
       "      <td>1794</td>\n",
       "      <td>A</td>\n",
       "      <td>0.0</td>\n",
       "    </tr>\n",
       "    <tr>\n",
       "      <th>...</th>\n",
       "      <td>...</td>\n",
       "      <td>...</td>\n",
       "      <td>...</td>\n",
       "    </tr>\n",
       "    <tr>\n",
       "      <th>74571</th>\n",
       "      <td>200247820</td>\n",
       "      <td>B</td>\n",
       "      <td>0.0</td>\n",
       "    </tr>\n",
       "    <tr>\n",
       "      <th>74572</th>\n",
       "      <td>201032527</td>\n",
       "      <td>B</td>\n",
       "      <td>0.0</td>\n",
       "    </tr>\n",
       "    <tr>\n",
       "      <th>74573</th>\n",
       "      <td>201067612</td>\n",
       "      <td>B</td>\n",
       "      <td>0.0</td>\n",
       "    </tr>\n",
       "    <tr>\n",
       "      <th>74574</th>\n",
       "      <td>201067653</td>\n",
       "      <td>B</td>\n",
       "      <td>0.0</td>\n",
       "    </tr>\n",
       "    <tr>\n",
       "      <th>74575</th>\n",
       "      <td>201067659</td>\n",
       "      <td>B</td>\n",
       "      <td>0.0</td>\n",
       "    </tr>\n",
       "  </tbody>\n",
       "</table>\n",
       "<p>74576 rows × 3 columns</p>\n",
       "</div>"
      ],
      "text/plain": [
       "       student_id grp    rev\n",
       "0            1489   B    0.0\n",
       "1            1627   A  990.0\n",
       "2            1768   B    0.0\n",
       "3            1783   B    0.0\n",
       "4            1794   A    0.0\n",
       "...           ...  ..    ...\n",
       "74571   200247820   B    0.0\n",
       "74572   201032527   B    0.0\n",
       "74573   201067612   B    0.0\n",
       "74574   201067653   B    0.0\n",
       "74575   201067659   B    0.0\n",
       "\n",
       "[74576 rows x 3 columns]"
      ]
     },
     "execution_count": 69,
     "metadata": {},
     "output_type": "execute_result"
    }
   ],
   "source": [
    "# дополняем датафрейм с группами пользователей информацией о покупках\n",
    "groups_checks=all_groups.merge(checks, how='left', on='student_id')\n",
    "groups_checks['rev'] = groups_checks['rev'].replace(np.nan, 0)\n",
    "groups_checks"
   ]
  },
  {
   "cell_type": "code",
   "execution_count": 70,
   "id": "d4d2d41c",
   "metadata": {},
   "outputs": [
    {
     "data": {
      "text/html": [
       "<div>\n",
       "<style scoped>\n",
       "    .dataframe tbody tr th:only-of-type {\n",
       "        vertical-align: middle;\n",
       "    }\n",
       "\n",
       "    .dataframe tbody tr th {\n",
       "        vertical-align: top;\n",
       "    }\n",
       "\n",
       "    .dataframe thead th {\n",
       "        text-align: right;\n",
       "    }\n",
       "</style>\n",
       "<table border=\"1\" class=\"dataframe\">\n",
       "  <thead>\n",
       "    <tr style=\"text-align: right;\">\n",
       "      <th></th>\n",
       "      <th>student_id</th>\n",
       "      <th>active</th>\n",
       "    </tr>\n",
       "  </thead>\n",
       "  <tbody>\n",
       "    <tr>\n",
       "      <th>0</th>\n",
       "      <td>581585</td>\n",
       "      <td>yes</td>\n",
       "    </tr>\n",
       "    <tr>\n",
       "      <th>1</th>\n",
       "      <td>5723133</td>\n",
       "      <td>yes</td>\n",
       "    </tr>\n",
       "    <tr>\n",
       "      <th>2</th>\n",
       "      <td>3276743</td>\n",
       "      <td>yes</td>\n",
       "    </tr>\n",
       "    <tr>\n",
       "      <th>3</th>\n",
       "      <td>4238589</td>\n",
       "      <td>yes</td>\n",
       "    </tr>\n",
       "    <tr>\n",
       "      <th>4</th>\n",
       "      <td>4475369</td>\n",
       "      <td>yes</td>\n",
       "    </tr>\n",
       "    <tr>\n",
       "      <th>...</th>\n",
       "      <td>...</td>\n",
       "      <td>...</td>\n",
       "    </tr>\n",
       "    <tr>\n",
       "      <th>8336</th>\n",
       "      <td>1794344</td>\n",
       "      <td>yes</td>\n",
       "    </tr>\n",
       "    <tr>\n",
       "      <th>8337</th>\n",
       "      <td>296883</td>\n",
       "      <td>yes</td>\n",
       "    </tr>\n",
       "    <tr>\n",
       "      <th>8338</th>\n",
       "      <td>3598448</td>\n",
       "      <td>yes</td>\n",
       "    </tr>\n",
       "    <tr>\n",
       "      <th>8339</th>\n",
       "      <td>3610547</td>\n",
       "      <td>yes</td>\n",
       "    </tr>\n",
       "    <tr>\n",
       "      <th>8340</th>\n",
       "      <td>205705</td>\n",
       "      <td>yes</td>\n",
       "    </tr>\n",
       "  </tbody>\n",
       "</table>\n",
       "<p>8341 rows × 2 columns</p>\n",
       "</div>"
      ],
      "text/plain": [
       "      student_id active\n",
       "0         581585    yes\n",
       "1        5723133    yes\n",
       "2        3276743    yes\n",
       "3        4238589    yes\n",
       "4        4475369    yes\n",
       "...          ...    ...\n",
       "8336     1794344    yes\n",
       "8337      296883    yes\n",
       "8338     3598448    yes\n",
       "8339     3610547    yes\n",
       "8340      205705    yes\n",
       "\n",
       "[8341 rows x 2 columns]"
      ]
     },
     "execution_count": 70,
     "metadata": {},
     "output_type": "execute_result"
    }
   ],
   "source": [
    "# создаем столбец 'active' со значением 'yes' , чтобы перед добавлением в основной датафрейм пользователей можно было \n",
    "# поделить на активных и неактивных\n",
    "active_studs['active']='yes'\n",
    "active_studs"
   ]
  },
  {
   "cell_type": "code",
   "execution_count": 71,
   "id": "6d120d05",
   "metadata": {},
   "outputs": [
    {
     "data": {
      "text/html": [
       "<div>\n",
       "<style scoped>\n",
       "    .dataframe tbody tr th:only-of-type {\n",
       "        vertical-align: middle;\n",
       "    }\n",
       "\n",
       "    .dataframe tbody tr th {\n",
       "        vertical-align: top;\n",
       "    }\n",
       "\n",
       "    .dataframe thead th {\n",
       "        text-align: right;\n",
       "    }\n",
       "</style>\n",
       "<table border=\"1\" class=\"dataframe\">\n",
       "  <thead>\n",
       "    <tr style=\"text-align: right;\">\n",
       "      <th></th>\n",
       "      <th>student_id</th>\n",
       "      <th>grp</th>\n",
       "      <th>rev</th>\n",
       "      <th>active</th>\n",
       "    </tr>\n",
       "  </thead>\n",
       "  <tbody>\n",
       "    <tr>\n",
       "      <th>0</th>\n",
       "      <td>1489</td>\n",
       "      <td>B</td>\n",
       "      <td>0.0</td>\n",
       "      <td>no</td>\n",
       "    </tr>\n",
       "    <tr>\n",
       "      <th>1</th>\n",
       "      <td>1627</td>\n",
       "      <td>A</td>\n",
       "      <td>990.0</td>\n",
       "      <td>yes</td>\n",
       "    </tr>\n",
       "    <tr>\n",
       "      <th>2</th>\n",
       "      <td>1768</td>\n",
       "      <td>B</td>\n",
       "      <td>0.0</td>\n",
       "      <td>no</td>\n",
       "    </tr>\n",
       "    <tr>\n",
       "      <th>3</th>\n",
       "      <td>1783</td>\n",
       "      <td>B</td>\n",
       "      <td>0.0</td>\n",
       "      <td>no</td>\n",
       "    </tr>\n",
       "    <tr>\n",
       "      <th>4</th>\n",
       "      <td>1794</td>\n",
       "      <td>A</td>\n",
       "      <td>0.0</td>\n",
       "      <td>no</td>\n",
       "    </tr>\n",
       "    <tr>\n",
       "      <th>...</th>\n",
       "      <td>...</td>\n",
       "      <td>...</td>\n",
       "      <td>...</td>\n",
       "      <td>...</td>\n",
       "    </tr>\n",
       "    <tr>\n",
       "      <th>74571</th>\n",
       "      <td>200247820</td>\n",
       "      <td>B</td>\n",
       "      <td>0.0</td>\n",
       "      <td>no</td>\n",
       "    </tr>\n",
       "    <tr>\n",
       "      <th>74572</th>\n",
       "      <td>201032527</td>\n",
       "      <td>B</td>\n",
       "      <td>0.0</td>\n",
       "      <td>no</td>\n",
       "    </tr>\n",
       "    <tr>\n",
       "      <th>74573</th>\n",
       "      <td>201067612</td>\n",
       "      <td>B</td>\n",
       "      <td>0.0</td>\n",
       "      <td>no</td>\n",
       "    </tr>\n",
       "    <tr>\n",
       "      <th>74574</th>\n",
       "      <td>201067653</td>\n",
       "      <td>B</td>\n",
       "      <td>0.0</td>\n",
       "      <td>no</td>\n",
       "    </tr>\n",
       "    <tr>\n",
       "      <th>74575</th>\n",
       "      <td>201067659</td>\n",
       "      <td>B</td>\n",
       "      <td>0.0</td>\n",
       "      <td>no</td>\n",
       "    </tr>\n",
       "  </tbody>\n",
       "</table>\n",
       "<p>74576 rows × 4 columns</p>\n",
       "</div>"
      ],
      "text/plain": [
       "       student_id grp    rev active\n",
       "0            1489   B    0.0     no\n",
       "1            1627   A  990.0    yes\n",
       "2            1768   B    0.0     no\n",
       "3            1783   B    0.0     no\n",
       "4            1794   A    0.0     no\n",
       "...           ...  ..    ...    ...\n",
       "74571   200247820   B    0.0     no\n",
       "74572   201032527   B    0.0     no\n",
       "74573   201067612   B    0.0     no\n",
       "74574   201067653   B    0.0     no\n",
       "74575   201067659   B    0.0     no\n",
       "\n",
       "[74576 rows x 4 columns]"
      ]
     },
     "execution_count": 71,
     "metadata": {},
     "output_type": "execute_result"
    }
   ],
   "source": [
    "# формируем полный датафрейм с данными о пользователях, тестовой группе, покупках, активности, \n",
    "# в столбце 'active' указываем значение 'no' у неактивных пользователей\n",
    "groups_checks_full=groups_checks.merge(active_studs, how='left', on='student_id')\n",
    "groups_checks_full['active'] = groups_checks_full['active'].replace(np.nan, 'no')\n",
    "groups_checks_full"
   ]
  },
  {
   "cell_type": "code",
   "execution_count": 72,
   "id": "d705acfb",
   "metadata": {},
   "outputs": [
    {
     "data": {
      "text/html": [
       "<div>\n",
       "<style scoped>\n",
       "    .dataframe tbody tr th:only-of-type {\n",
       "        vertical-align: middle;\n",
       "    }\n",
       "\n",
       "    .dataframe tbody tr th {\n",
       "        vertical-align: top;\n",
       "    }\n",
       "\n",
       "    .dataframe thead th {\n",
       "        text-align: right;\n",
       "    }\n",
       "</style>\n",
       "<table border=\"1\" class=\"dataframe\">\n",
       "  <thead>\n",
       "    <tr style=\"text-align: right;\">\n",
       "      <th></th>\n",
       "      <th>grp</th>\n",
       "      <th>student_id</th>\n",
       "    </tr>\n",
       "  </thead>\n",
       "  <tbody>\n",
       "    <tr>\n",
       "      <th>0</th>\n",
       "      <td>A</td>\n",
       "      <td>29</td>\n",
       "    </tr>\n",
       "    <tr>\n",
       "      <th>1</th>\n",
       "      <td>B</td>\n",
       "      <td>120</td>\n",
       "    </tr>\n",
       "  </tbody>\n",
       "</table>\n",
       "</div>"
      ],
      "text/plain": [
       "  grp  student_id\n",
       "0   A          29\n",
       "1   B         120"
      ]
     },
     "execution_count": 72,
     "metadata": {},
     "output_type": "execute_result"
    }
   ],
   "source": [
    "# выясним, есть ли пользователи, не заходившие на платформу, но выполнившие оплату заказа\n",
    "groups_checks_full.query(\"active=='no'\").query('rev>0').groupby('grp', as_index=False).student_id.count()"
   ]
  },
  {
   "cell_type": "code",
   "execution_count": 73,
   "id": "625f9743",
   "metadata": {},
   "outputs": [
    {
     "data": {
      "text/html": [
       "<div>\n",
       "<style scoped>\n",
       "    .dataframe tbody tr th:only-of-type {\n",
       "        vertical-align: middle;\n",
       "    }\n",
       "\n",
       "    .dataframe tbody tr th {\n",
       "        vertical-align: top;\n",
       "    }\n",
       "\n",
       "    .dataframe thead th {\n",
       "        text-align: right;\n",
       "    }\n",
       "</style>\n",
       "<table border=\"1\" class=\"dataframe\">\n",
       "  <thead>\n",
       "    <tr style=\"text-align: right;\">\n",
       "      <th></th>\n",
       "      <th>grp</th>\n",
       "      <th>student_id</th>\n",
       "    </tr>\n",
       "  </thead>\n",
       "  <tbody>\n",
       "    <tr>\n",
       "      <th>0</th>\n",
       "      <td>A</td>\n",
       "      <td>107</td>\n",
       "    </tr>\n",
       "    <tr>\n",
       "      <th>1</th>\n",
       "      <td>B</td>\n",
       "      <td>434</td>\n",
       "    </tr>\n",
       "  </tbody>\n",
       "</table>\n",
       "</div>"
      ],
      "text/plain": [
       "  grp  student_id\n",
       "0   A         107\n",
       "1   B         434"
      ]
     },
     "execution_count": 73,
     "metadata": {},
     "output_type": "execute_result"
    }
   ],
   "source": [
    "# сколько всего пользователей по группам выполнивших оплату заказа\n",
    "groups_checks_full.query('rev>0').groupby('grp', as_index=False).student_id.count()"
   ]
  },
  {
   "cell_type": "markdown",
   "id": "5a79b175",
   "metadata": {},
   "source": [
    " В наших данных 149 пользователей (29 из контрольной и 120 из тестовой групп) не заходили на платформу, но, у которых выполнен заказ, что составляет 149/541 *100 = 27.5% от платящих пользователей. Можно предположить, что \n",
    "у данных пользователей оформлена подписка и списание произошло автоматически, либо пользователь был авторизован\n",
    "на платформе и факт входа на платформу не записался в данных, либо по технической причине информация по входу на\n",
    "платформу была утеряна или не формировалась должным образом."
   ]
  },
  {
   "cell_type": "code",
   "execution_count": 74,
   "id": "9c1f9bf3",
   "metadata": {},
   "outputs": [
    {
     "data": {
      "text/plain": [
       "690.0000     61\n",
       "290.0000     24\n",
       "990.0000     19\n",
       "1140.0000    14\n",
       "199.0000     14\n",
       "580.0000      4\n",
       "1900.0000     4\n",
       "840.0000      3\n",
       "398.0000      2\n",
       "630.0000      1\n",
       "1980.0000     1\n",
       "1180.0000     1\n",
       "1900.0001     1\n",
       "Name: rev, dtype: int64"
      ]
     },
     "execution_count": 74,
     "metadata": {},
     "output_type": "execute_result"
    }
   ],
   "source": [
    "# оценим какие это суммы покупок и сколько раз встречаются\n",
    "groups_checks_full.query(\"active=='no'\").query('rev>0').rev.value_counts()"
   ]
  },
  {
   "cell_type": "markdown",
   "id": "94e64bdf",
   "metadata": {},
   "source": [
    "Так как суммы оплат сильно варьируются, маловероятно, что причина кроется исключительно в автоматическом списании оплаты за подписку. Также выяснилось, что доля таких данных от общего числа покупок достаточно высока: 27.5%. Поэтому я бы не хотела удалять эти данные. Единственно, что смущает единичная сумма заказа \"1900.0001\". Посмотрим есть ли подобные заказы среди активных пользователей."
   ]
  },
  {
   "cell_type": "code",
   "execution_count": 75,
   "id": "f7b93637",
   "metadata": {},
   "outputs": [
    {
     "data": {
      "text/plain": [
       "0.0000       7949\n",
       "1900.0000      93\n",
       "290.0000       70\n",
       "1900.0001      35\n",
       "199.0000       32\n",
       "840.0000       24\n",
       "990.0000       22\n",
       "690.0000       17\n",
       "1140.0000      11\n",
       "580.0000       11\n",
       "590.0000       11\n",
       "1530.0000       8\n",
       "398.0000        7\n",
       "870.0000        6\n",
       "3660.0000       5\n",
       "2910.0000       4\n",
       "2890.0000       4\n",
       "489.0000        3\n",
       "1160.0000       3\n",
       "1980.0000       3\n",
       "2099.0000       3\n",
       "2820.0000       2\n",
       "2220.0000       2\n",
       "3260.0000       1\n",
       "597.0000        1\n",
       "1339.0000       1\n",
       "1180.0000       1\n",
       "1968.0000       1\n",
       "1050.0000       1\n",
       "1830.0000       1\n",
       "1388.0000       1\n",
       "2900.0000       1\n",
       "1729.0000       1\n",
       "2190.0000       1\n",
       "4650.0000       1\n",
       "796.0000        1\n",
       "3040.0000       1\n",
       "880.0000        1\n",
       "1039.0000       1\n",
       "Name: rev, dtype: int64"
      ]
     },
     "execution_count": 75,
     "metadata": {},
     "output_type": "execute_result"
    }
   ],
   "source": [
    "# суммы заказов активных пользователей\n",
    "groups_checks_full.query(\"active=='yes'\").rev.value_counts()"
   ]
  },
  {
   "cell_type": "markdown",
   "id": "657e9310",
   "metadata": {},
   "source": [
    "Суммы заказов \"1900.0001\" среди активных пользователей встречаются 35 раз, так что оставим эти суммы."
   ]
  },
  {
   "cell_type": "code",
   "execution_count": 76,
   "id": "41f04799",
   "metadata": {},
   "outputs": [],
   "source": [
    "# не попавшие в раздел активных, но с оплаченым заказом\n",
    "lost=groups_checks_full.query(\"active=='no'\").query('rev>0')"
   ]
  },
  {
   "cell_type": "code",
   "execution_count": 77,
   "id": "eedd562a",
   "metadata": {},
   "outputs": [],
   "source": [
    "# активные пользователи\n",
    "active=groups_checks_full.query(\"active=='yes'\")"
   ]
  },
  {
   "cell_type": "code",
   "execution_count": 78,
   "id": "322d5466",
   "metadata": {},
   "outputs": [
    {
     "data": {
      "text/html": [
       "<div>\n",
       "<style scoped>\n",
       "    .dataframe tbody tr th:only-of-type {\n",
       "        vertical-align: middle;\n",
       "    }\n",
       "\n",
       "    .dataframe tbody tr th {\n",
       "        vertical-align: top;\n",
       "    }\n",
       "\n",
       "    .dataframe thead th {\n",
       "        text-align: right;\n",
       "    }\n",
       "</style>\n",
       "<table border=\"1\" class=\"dataframe\">\n",
       "  <thead>\n",
       "    <tr style=\"text-align: right;\">\n",
       "      <th></th>\n",
       "      <th>student_id</th>\n",
       "      <th>grp</th>\n",
       "      <th>rev</th>\n",
       "      <th>active</th>\n",
       "    </tr>\n",
       "  </thead>\n",
       "  <tbody>\n",
       "    <tr>\n",
       "      <th>0</th>\n",
       "      <td>1627</td>\n",
       "      <td>A</td>\n",
       "      <td>990.0</td>\n",
       "      <td>yes</td>\n",
       "    </tr>\n",
       "    <tr>\n",
       "      <th>1</th>\n",
       "      <td>2085</td>\n",
       "      <td>B</td>\n",
       "      <td>0.0</td>\n",
       "      <td>yes</td>\n",
       "    </tr>\n",
       "    <tr>\n",
       "      <th>2</th>\n",
       "      <td>2215</td>\n",
       "      <td>B</td>\n",
       "      <td>0.0</td>\n",
       "      <td>yes</td>\n",
       "    </tr>\n",
       "    <tr>\n",
       "      <th>3</th>\n",
       "      <td>3391</td>\n",
       "      <td>A</td>\n",
       "      <td>0.0</td>\n",
       "      <td>yes</td>\n",
       "    </tr>\n",
       "    <tr>\n",
       "      <th>4</th>\n",
       "      <td>3401</td>\n",
       "      <td>B</td>\n",
       "      <td>0.0</td>\n",
       "      <td>yes</td>\n",
       "    </tr>\n",
       "    <tr>\n",
       "      <th>...</th>\n",
       "      <td>...</td>\n",
       "      <td>...</td>\n",
       "      <td>...</td>\n",
       "      <td>...</td>\n",
       "    </tr>\n",
       "    <tr>\n",
       "      <th>8485</th>\n",
       "      <td>5291900</td>\n",
       "      <td>B</td>\n",
       "      <td>199.0</td>\n",
       "      <td>no</td>\n",
       "    </tr>\n",
       "    <tr>\n",
       "      <th>8486</th>\n",
       "      <td>5331842</td>\n",
       "      <td>B</td>\n",
       "      <td>290.0</td>\n",
       "      <td>no</td>\n",
       "    </tr>\n",
       "    <tr>\n",
       "      <th>8487</th>\n",
       "      <td>5486319</td>\n",
       "      <td>B</td>\n",
       "      <td>199.0</td>\n",
       "      <td>no</td>\n",
       "    </tr>\n",
       "    <tr>\n",
       "      <th>8488</th>\n",
       "      <td>5562806</td>\n",
       "      <td>B</td>\n",
       "      <td>398.0</td>\n",
       "      <td>no</td>\n",
       "    </tr>\n",
       "    <tr>\n",
       "      <th>8489</th>\n",
       "      <td>5599663</td>\n",
       "      <td>B</td>\n",
       "      <td>1900.0</td>\n",
       "      <td>no</td>\n",
       "    </tr>\n",
       "  </tbody>\n",
       "</table>\n",
       "<p>8490 rows × 4 columns</p>\n",
       "</div>"
      ],
      "text/plain": [
       "      student_id grp     rev active\n",
       "0           1627   A   990.0    yes\n",
       "1           2085   B     0.0    yes\n",
       "2           2215   B     0.0    yes\n",
       "3           3391   A     0.0    yes\n",
       "4           3401   B     0.0    yes\n",
       "...          ...  ..     ...    ...\n",
       "8485     5291900   B   199.0     no\n",
       "8486     5331842   B   290.0     no\n",
       "8487     5486319   B   199.0     no\n",
       "8488     5562806   B   398.0     no\n",
       "8489     5599663   B  1900.0     no\n",
       "\n",
       "[8490 rows x 4 columns]"
      ]
     },
     "execution_count": 78,
     "metadata": {},
     "output_type": "execute_result"
    }
   ],
   "source": [
    "# объединяем активных и не попавших в раздел активных\n",
    "full_active_users=pd.concat([active,lost]).reset_index().drop(columns=['index'])\n",
    "full_active_users"
   ]
  },
  {
   "cell_type": "markdown",
   "id": "011438f8",
   "metadata": {},
   "source": [
    "На данном этапе мы получили полный датафрейм с данными, посмотрим на него подробнее"
   ]
  },
  {
   "cell_type": "code",
   "execution_count": 79,
   "id": "6f731323",
   "metadata": {},
   "outputs": [
    {
     "data": {
      "text/plain": [
       "0.0       1460\n",
       "290.0       31\n",
       "690.0       19\n",
       "199.0        7\n",
       "990.0        6\n",
       "580.0        6\n",
       "590.0        5\n",
       "1140.0       5\n",
       "3660.0       3\n",
       "840.0        3\n",
       "1530.0       3\n",
       "489.0        2\n",
       "398.0        2\n",
       "1160.0       2\n",
       "1980.0       2\n",
       "2820.0       2\n",
       "2910.0       2\n",
       "2900.0       1\n",
       "1830.0       1\n",
       "2220.0       1\n",
       "1180.0       1\n",
       "2890.0       1\n",
       "1039.0       1\n",
       "870.0        1\n",
       "Name: rev, dtype: int64"
      ]
     },
     "execution_count": 79,
     "metadata": {},
     "output_type": "execute_result"
    }
   ],
   "source": [
    "# суммы заказов из группы \"А\"\n",
    "full_active_users.query(\"grp == 'A'\").rev.value_counts()"
   ]
  },
  {
   "cell_type": "code",
   "execution_count": 80,
   "id": "c8871f0a",
   "metadata": {},
   "outputs": [
    {
     "data": {
      "text/plain": [
       "count    1567.000000\n",
       "mean       58.772176\n",
       "std       303.678591\n",
       "min         0.000000\n",
       "25%         0.000000\n",
       "50%         0.000000\n",
       "75%         0.000000\n",
       "max      3660.000000\n",
       "Name: rev, dtype: float64"
      ]
     },
     "execution_count": 80,
     "metadata": {},
     "output_type": "execute_result"
    }
   ],
   "source": [
    "full_active_users.query(\"grp == 'A'\").rev.describe()"
   ]
  },
  {
   "cell_type": "code",
   "execution_count": 81,
   "id": "d62bbc45",
   "metadata": {},
   "outputs": [
    {
     "data": {
      "text/plain": [
       "0.0000       6489\n",
       "1900.0000      97\n",
       "290.0000       63\n",
       "690.0000       59\n",
       "199.0000       39\n",
       "1900.0001      36\n",
       "990.0000       35\n",
       "840.0000       24\n",
       "1140.0000      20\n",
       "580.0000        9\n",
       "398.0000        7\n",
       "590.0000        6\n",
       "1530.0000       5\n",
       "870.0000        5\n",
       "2890.0000       3\n",
       "2099.0000       3\n",
       "3660.0000       2\n",
       "1980.0000       2\n",
       "2910.0000       2\n",
       "1050.0000       1\n",
       "1160.0000       1\n",
       "489.0000        1\n",
       "597.0000        1\n",
       "1339.0000       1\n",
       "630.0000        1\n",
       "1968.0000       1\n",
       "3040.0000       1\n",
       "2220.0000       1\n",
       "1388.0000       1\n",
       "1729.0000       1\n",
       "2190.0000       1\n",
       "4650.0000       1\n",
       "796.0000        1\n",
       "880.0000        1\n",
       "3260.0000       1\n",
       "1180.0000       1\n",
       "Name: rev, dtype: int64"
      ]
     },
     "execution_count": 81,
     "metadata": {},
     "output_type": "execute_result"
    }
   ],
   "source": [
    "# суммы заказов из группы \"В\"\n",
    "full_active_users.query(\"grp == 'B'\").rev.value_counts()"
   ]
  },
  {
   "cell_type": "code",
   "execution_count": 82,
   "id": "299a93f3",
   "metadata": {},
   "outputs": [
    {
     "data": {
      "text/plain": [
       "count    6923.000000\n",
       "mean       69.511773\n",
       "std       326.618480\n",
       "min         0.000000\n",
       "25%         0.000000\n",
       "50%         0.000000\n",
       "75%         0.000000\n",
       "max      4650.000000\n",
       "Name: rev, dtype: float64"
      ]
     },
     "execution_count": 82,
     "metadata": {},
     "output_type": "execute_result"
    }
   ],
   "source": [
    "full_active_users.query(\"grp == 'B'\").rev.describe()"
   ]
  },
  {
   "cell_type": "code",
   "execution_count": 83,
   "id": "4bf1ab6a",
   "metadata": {},
   "outputs": [
    {
     "data": {
      "image/png": "[encoded data removed]",
      "text/plain": [
       "<Figure size 640x480 with 1 Axes>"
      ]
     },
     "metadata": {},
     "output_type": "display_data"
    }
   ],
   "source": [
    "# Распределение заказов всех пользователей по группам\n",
    "sns.boxplot(data=full_active_users, y='rev', x='grp')\n",
    "sns.despine()"
   ]
  },
  {
   "cell_type": "code",
   "execution_count": 84,
   "id": "98af52d8",
   "metadata": {},
   "outputs": [
    {
     "data": {
      "image/png": "[encoded data removed]",
      "text/plain": [
       "<Figure size 640x480 with 1 Axes>"
      ]
     },
     "metadata": {},
     "output_type": "display_data"
    }
   ],
   "source": [
    "# Распределение заказов оплативших пользователей по группам\n",
    "sns.boxplot(data=full_active_users.query('rev>0'), y='rev', x='grp')\n",
    "sns.despine()"
   ]
  },
  {
   "cell_type": "markdown",
   "id": "ef5789de",
   "metadata": {},
   "source": [
    "По полученным данным видно, что средний чек заказов в тестовой группе возрос. Для получения более точной картины ситуации посчитаем метрики."
   ]
  },
  {
   "cell_type": "markdown",
   "id": "5697ae35",
   "metadata": {},
   "source": [
    "# 1.2 Расчитываем необходимые метрики: \n",
    "ARPАU, ARPPU, CR в покупку\n",
    "- ARPAU (Average Revenue Per Active User) - средний платеж на всех активных пользователей\n",
    "- ARPPU (Average Revenue Per Paying User) - средний платеж на всех платящих пользователей\n",
    "- CR в покупку активных пользователей - доля пользователей совершивших покупку ко всем активным пользователям"
   ]
  },
  {
   "cell_type": "code",
   "execution_count": 85,
   "id": "519086c7",
   "metadata": {},
   "outputs": [],
   "source": [
    "# для облегчения подсчета формул запишем некоторые части расчета в переменные\n",
    "A_users_w_revenue=full_active_users.query(\"grp == 'A'\").query('rev>0')\n",
    "B_users_w_revenue=full_active_users.query(\"grp == 'B'\").query('rev>0')\n",
    "A_users_count=full_active_users.query(\"grp == 'A'\").student_id.count()\n",
    "B_users_count=full_active_users.query(\"grp == 'B'\").student_id.count()"
   ]
  },
  {
   "cell_type": "code",
   "execution_count": 86,
   "id": "2532fe48",
   "metadata": {},
   "outputs": [],
   "source": [
    "# расчитываем метрики для контрольной и тестовых групп\n",
    "Revenue_A=(A_users_w_revenue.agg({'rev':sum})).rev\n",
    "Revenue_B=(B_users_w_revenue.agg({'rev':sum})).rev\n",
    "ARPAU_A=Revenue_A/A_users_count\n",
    "ARPAU_B=Revenue_B/B_users_count\n",
    "ARPPU_A=Revenue_A/A_users_w_revenue.student_id.count()\n",
    "ARPPU_B=Revenue_B/B_users_w_revenue.student_id.count()\n",
    "CR_buy_A=A_users_w_revenue.student_id.count()/A_users_count\n",
    "CR_buy_B=B_users_w_revenue.student_id.count()/B_users_count"
   ]
  },
  {
   "cell_type": "code",
   "execution_count": 87,
   "id": "b162f91f",
   "metadata": {},
   "outputs": [
    {
     "data": {
      "text/html": [
       "<div>\n",
       "<style scoped>\n",
       "    .dataframe tbody tr th:only-of-type {\n",
       "        vertical-align: middle;\n",
       "    }\n",
       "\n",
       "    .dataframe tbody tr th {\n",
       "        vertical-align: top;\n",
       "    }\n",
       "\n",
       "    .dataframe thead th {\n",
       "        text-align: right;\n",
       "    }\n",
       "</style>\n",
       "<table border=\"1\" class=\"dataframe\">\n",
       "  <thead>\n",
       "    <tr style=\"text-align: right;\">\n",
       "      <th></th>\n",
       "      <th>grp</th>\n",
       "      <th>count</th>\n",
       "      <th>ARPAU</th>\n",
       "      <th>ARPPU</th>\n",
       "      <th>CR_buy</th>\n",
       "      <th>Revenue</th>\n",
       "    </tr>\n",
       "  </thead>\n",
       "  <tbody>\n",
       "    <tr>\n",
       "      <th>0</th>\n",
       "      <td>A</td>\n",
       "      <td>1567</td>\n",
       "      <td>58.7722</td>\n",
       "      <td>860.7103</td>\n",
       "      <td>0.0683</td>\n",
       "      <td>92096.0000</td>\n",
       "    </tr>\n",
       "    <tr>\n",
       "      <th>1</th>\n",
       "      <td>B</td>\n",
       "      <td>6923</td>\n",
       "      <td>69.5118</td>\n",
       "      <td>1108.8249</td>\n",
       "      <td>0.0627</td>\n",
       "      <td>481230.0036</td>\n",
       "    </tr>\n",
       "  </tbody>\n",
       "</table>\n",
       "</div>"
      ],
      "text/plain": [
       "  grp  count    ARPAU      ARPPU  CR_buy      Revenue\n",
       "0   A   1567  58.7722   860.7103  0.0683   92096.0000\n",
       "1   B   6923  69.5118  1108.8249  0.0627  481230.0036"
      ]
     },
     "execution_count": 87,
     "metadata": {},
     "output_type": "execute_result"
    }
   ],
   "source": [
    "# создадим результирующий датафрейм с метриками\n",
    "metrics=full_active_users.groupby('grp').student_id.count().reset_index().rename(columns={'student_id':'count'})\n",
    "metrics['ARPAU']=[ARPAU_A, ARPAU_B]\n",
    "metrics['ARPPU']=[ARPPU_A, ARPPU_B]\n",
    "metrics['CR_buy']=[CR_buy_A, CR_buy_B]\n",
    "metrics['Revenue']=[Revenue_A, Revenue_B]\n",
    "metrics.round(4)"
   ]
  },
  {
   "cell_type": "markdown",
   "id": "6d885bcc",
   "metadata": {},
   "source": [
    "# Вывод: \n",
    "Revenue, ARPАU и ARPPU в тестовой группе по отношению к контрольной возросли, а CR в покупку в тестовой группе наоборот стал ниже. Получается, что стали покупать реже, но сумма чека возросла. Для подтверждения или опровержения этой теории проведем А/В - тестирование."
   ]
  },
  {
   "cell_type": "markdown",
   "id": "ab22fd60",
   "metadata": {},
   "source": [
    "# 1.3 Приступаем к А/B - тестированию"
   ]
  },
  {
   "cell_type": "markdown",
   "id": "8053a68b",
   "metadata": {},
   "source": [
    "Посмотрим на наши выборки"
   ]
  },
  {
   "cell_type": "code",
   "execution_count": 88,
   "id": "5a4f08ff",
   "metadata": {},
   "outputs": [
    {
     "data": {
      "text/plain": [
       "<AxesSubplot:xlabel='rev', ylabel='Count'>"
      ]
     },
     "execution_count": 88,
     "metadata": {},
     "output_type": "execute_result"
    },
    {
     "data": {
      "image/png": "[encoded data removed]",
      "text/plain": [
       "<Figure size 640x480 with 1 Axes>"
      ]
     },
     "metadata": {},
     "output_type": "display_data"
    }
   ],
   "source": [
    "# группа \"А\" активных пользователей\n",
    "sns.histplot(data=full_active_users.query(\"grp == 'A'\"), x='rev')"
   ]
  },
  {
   "cell_type": "code",
   "execution_count": 89,
   "id": "dfc0432e",
   "metadata": {},
   "outputs": [
    {
     "data": {
      "text/plain": [
       "<AxesSubplot:xlabel='rev', ylabel='Count'>"
      ]
     },
     "execution_count": 89,
     "metadata": {},
     "output_type": "execute_result"
    },
    {
     "data": {
      "image/png": "[encoded data removed]",
      "text/plain": [
       "<Figure size 640x480 with 1 Axes>"
      ]
     },
     "metadata": {},
     "output_type": "display_data"
    }
   ],
   "source": [
    "# группа \"В\" активных пользователей\n",
    "sns.histplot(data=full_active_users.query(\"grp == 'B'\"), x='rev')"
   ]
  },
  {
   "cell_type": "code",
   "execution_count": 90,
   "id": "520db5e5",
   "metadata": {},
   "outputs": [
    {
     "data": {
      "text/plain": [
       "<AxesSubplot:xlabel='rev', ylabel='Count'>"
      ]
     },
     "execution_count": 90,
     "metadata": {},
     "output_type": "execute_result"
    },
    {
     "data": {
      "image/png": "[encoded data removed]",
      "text/plain": [
       "<Figure size 640x480 with 1 Axes>"
      ]
     },
     "metadata": {},
     "output_type": "display_data"
    }
   ],
   "source": [
    "# группа \"А\", выполнивших оплату, пользователей\n",
    "sns.histplot(data=full_active_users.query(\"grp == 'A'\").query(\"rev>0\"), x='rev')"
   ]
  },
  {
   "cell_type": "code",
   "execution_count": 91,
   "id": "99eac81a",
   "metadata": {},
   "outputs": [
    {
     "data": {
      "text/plain": [
       "<AxesSubplot:xlabel='rev', ylabel='Count'>"
      ]
     },
     "execution_count": 91,
     "metadata": {},
     "output_type": "execute_result"
    },
    {
     "data": {
      "image/png": "[encoded data removed]",
      "text/plain": [
       "<Figure size 640x480 with 1 Axes>"
      ]
     },
     "metadata": {},
     "output_type": "display_data"
    }
   ],
   "source": [
    "# группа \"В\", выполнивших оплату, пользователей\n",
    "sns.histplot(data=full_active_users.query(\"grp == 'B'\").query(\"rev>0\"), x='rev')"
   ]
  },
  {
   "cell_type": "markdown",
   "id": "9482da00",
   "metadata": {},
   "source": [
    "Распределение в обеих группах активных пользователей большей частью выборки концентрируется на отметке \"0\", далее в правой части графика визуализируется остальная часть выборки, составляющая менее 10% от общей выборки. \n",
    "\n",
    "Распределения, выполнивших заказ, пользователей в группе \"А\" ассиметричное, скошено вправо, распределение в группе \"В\" ассиметричное, можно сказать, что скошено вправо. \n",
    "\n",
    "Все эти графики показывают нам ненормальное распределение, поэтому для проведения А/В - тестирования рекомендовано опираться на результаты непараметрических методов."
   ]
  },
  {
   "cell_type": "markdown",
   "id": "fbb89c82",
   "metadata": {},
   "source": [
    "# Проведем анализ ARPAU"
   ]
  },
  {
   "cell_type": "markdown",
   "id": "48c7a3e7",
   "metadata": {},
   "source": [
    "Сформируем гипотезы:\n",
    "- Но - статистической разницы в ARPAU между выборками нет\n",
    "- Н1 - по ARPAU выборки статистически различаются"
   ]
  },
  {
   "cell_type": "markdown",
   "id": "d25f12da",
   "metadata": {},
   "source": [
    "1. Тест Манна -Уитни:"
   ]
  },
  {
   "cell_type": "code",
   "execution_count": 92,
   "id": "a03fdcfd",
   "metadata": {},
   "outputs": [
    {
     "data": {
      "text/plain": [
       "MannwhitneyuResult(statistic=5449155.0, pvalue=0.5005924615057726)"
      ]
     },
     "execution_count": 92,
     "metadata": {},
     "output_type": "execute_result"
    }
   ],
   "source": [
    "stats.mannwhitneyu(full_active_users[full_active_users.grp == 'A'].rev, \n",
    "                   full_active_users[full_active_users.grp == 'B'].rev,\n",
    "                   alternative = 'two-sided')"
   ]
  },
  {
   "cell_type": "markdown",
   "id": "e3650718",
   "metadata": {},
   "source": [
    "По результату теста Манна- Уитни, pvalue=0.5005 достаточно высокий, это говорит о том, что зона перекрещивающихся значений между ранжированными значениями рядов экспериментальных групп достаточно велика и мы не можем отклонить нулевую гипотезу."
   ]
  },
  {
   "cell_type": "markdown",
   "id": "7e60725d",
   "metadata": {},
   "source": [
    "2. Проведем Bootstrap - тест"
   ]
  },
  {
   "cell_type": "code",
   "execution_count": 93,
   "id": "cd12b29e",
   "metadata": {},
   "outputs": [],
   "source": [
    "def get_bootstrap(\n",
    "    data_column_1, \n",
    "    data_column_2, \n",
    "    boot_it = 1000, \n",
    "    statistic = np.mean, \n",
    "    bootstrap_conf_level = 0.95 \n",
    "):\n",
    "    boot_data = []\n",
    "    for i in tqdm(range(boot_it)): \n",
    "        samples_1 = data_column_1.sample(\n",
    "            len(data_column_1), \n",
    "            replace = True \n",
    "        ).values\n",
    "        \n",
    "        samples_2 = data_column_2.sample(\n",
    "            len(data_column_1), \n",
    "            replace = True\n",
    "        ).values\n",
    "        \n",
    "        boot_data.append(statistic(samples_1)-statistic(samples_2)) \n",
    "        \n",
    "    pd_boot_data = pd.DataFrame(boot_data)\n",
    "        \n",
    "    left_quant = (1 - bootstrap_conf_level)/2\n",
    "    right_quant = 1 - (1 - bootstrap_conf_level) / 2\n",
    "    quants = pd_boot_data.quantile([left_quant, right_quant])\n",
    "        \n",
    "    p_1 = norm.cdf(\n",
    "        x = 0, \n",
    "        loc = np.mean(boot_data), \n",
    "        scale = np.std(boot_data)\n",
    "    )\n",
    "    p_2 = norm.cdf(\n",
    "        x = 0, \n",
    "        loc = -np.mean(boot_data), \n",
    "        scale = np.std(boot_data)\n",
    "    )\n",
    "    p_value = min(p_1, p_2) * 2\n",
    "        \n",
    "   \n",
    "    _, _, bars = plt.hist(pd_boot_data[0], bins = 50)\n",
    "    for bar in bars:\n",
    "        if bar.get_x() <= quants.iloc[0][0] or bar.get_x() >= quants.iloc[1][0]:\n",
    "            bar.set_facecolor('red')\n",
    "        else: \n",
    "            bar.set_facecolor('grey')\n",
    "            bar.set_edgecolor('black')\n",
    "    \n",
    "    plt.style.use('ggplot')\n",
    "    plt.vlines(quants,ymin=0,ymax=50,linestyle='-')\n",
    "    plt.xlabel('boot_data')\n",
    "    plt.ylabel('frequency')\n",
    "    plt.title(\"Histogram\")\n",
    "    plt.show()\n",
    "       \n",
    "    return {\"boot_data\": boot_data, \n",
    "            \"quants\": quants, \n",
    "            \"p_value\": p_value}"
   ]
  },
  {
   "cell_type": "code",
   "execution_count": 94,
   "id": "dc3236a7",
   "metadata": {},
   "outputs": [
    {
     "data": {
      "application/vnd.jupyter.widget-view+json": {
       "model_id": "2e477ae0beec4172a201f9729aafd998",
       "version_major": 2,
       "version_minor": 0
      },
      "text/plain": [
       "  0%|          | 0/1000 [00:00<?, ?it/s]"
      ]
     },
     "metadata": {},
     "output_type": "display_data"
    },
    {
     "data": {
      "image/png": "[encoded data removed]",
      "text/plain": [
       "<Figure size 640x480 with 1 Axes>"
      ]
     },
     "metadata": {},
     "output_type": "display_data"
    }
   ],
   "source": [
    "# помещаем наши выборки в функцию Bootstrap\n",
    "bootstrap=get_bootstrap(full_active_users[full_active_users.grp == 'A'].rev, \n",
    "                   full_active_users[full_active_users.grp == 'B'].rev)"
   ]
  },
  {
   "cell_type": "code",
   "execution_count": 95,
   "id": "efaab120",
   "metadata": {},
   "outputs": [
    {
     "data": {
      "text/plain": [
       "0.3455801825183844"
      ]
     },
     "execution_count": 95,
     "metadata": {},
     "output_type": "execute_result"
    }
   ],
   "source": [
    "bootstrap[\"p_value\"]"
   ]
  },
  {
   "cell_type": "code",
   "execution_count": 96,
   "id": "dc171fb6",
   "metadata": {},
   "outputs": [
    {
     "data": {
      "text/html": [
       "<div>\n",
       "<style scoped>\n",
       "    .dataframe tbody tr th:only-of-type {\n",
       "        vertical-align: middle;\n",
       "    }\n",
       "\n",
       "    .dataframe tbody tr th {\n",
       "        vertical-align: top;\n",
       "    }\n",
       "\n",
       "    .dataframe thead th {\n",
       "        text-align: right;\n",
       "    }\n",
       "</style>\n",
       "<table border=\"1\" class=\"dataframe\">\n",
       "  <thead>\n",
       "    <tr style=\"text-align: right;\">\n",
       "      <th></th>\n",
       "      <th>0</th>\n",
       "    </tr>\n",
       "  </thead>\n",
       "  <tbody>\n",
       "    <tr>\n",
       "      <th>0.025</th>\n",
       "      <td>-32.434908</td>\n",
       "    </tr>\n",
       "    <tr>\n",
       "      <th>0.975</th>\n",
       "      <td>12.270548</td>\n",
       "    </tr>\n",
       "  </tbody>\n",
       "</table>\n",
       "</div>"
      ],
      "text/plain": [
       "               0\n",
       "0.025 -32.434908\n",
       "0.975  12.270548"
      ]
     },
     "execution_count": 96,
     "metadata": {},
     "output_type": "execute_result"
    }
   ],
   "source": [
    "bootstrap[\"quants\"]"
   ]
  },
  {
   "cell_type": "markdown",
   "id": "fa0ab23c",
   "metadata": {},
   "source": [
    "По результатам Bootstrap - теста мы получили высокий p-value: 0.3321 и диаппазон между 2.5 и 95.5 квантилем содержит \"0\", это нам говорит о том, что мы не можем отклонить нулевую гипотезу, а значим разницы между выборками тест не видит."
   ]
  },
  {
   "cell_type": "markdown",
   "id": "86a950a4",
   "metadata": {},
   "source": [
    "# Проведем анализ ARPPU"
   ]
  },
  {
   "cell_type": "markdown",
   "id": "33795b6b",
   "metadata": {},
   "source": [
    "Сформируем гипотезы:\n",
    "- Но - статистической разницы в ARPPU между выборками нет\n",
    "- Н1 - по ARPPU выборки статистически различаются"
   ]
  },
  {
   "cell_type": "code",
   "execution_count": 97,
   "id": "9bb79dc8",
   "metadata": {},
   "outputs": [
    {
     "data": {
      "text/html": [
       "<div>\n",
       "<style scoped>\n",
       "    .dataframe tbody tr th:only-of-type {\n",
       "        vertical-align: middle;\n",
       "    }\n",
       "\n",
       "    .dataframe tbody tr th {\n",
       "        vertical-align: top;\n",
       "    }\n",
       "\n",
       "    .dataframe thead th {\n",
       "        text-align: right;\n",
       "    }\n",
       "</style>\n",
       "<table border=\"1\" class=\"dataframe\">\n",
       "  <thead>\n",
       "    <tr style=\"text-align: right;\">\n",
       "      <th></th>\n",
       "      <th>student_id</th>\n",
       "      <th>grp</th>\n",
       "      <th>rev</th>\n",
       "    </tr>\n",
       "  </thead>\n",
       "  <tbody>\n",
       "    <tr>\n",
       "      <th>0</th>\n",
       "      <td>1627</td>\n",
       "      <td>A</td>\n",
       "      <td>990.0000</td>\n",
       "    </tr>\n",
       "    <tr>\n",
       "      <th>10</th>\n",
       "      <td>100300</td>\n",
       "      <td>B</td>\n",
       "      <td>990.0000</td>\n",
       "    </tr>\n",
       "    <tr>\n",
       "      <th>12</th>\n",
       "      <td>108270</td>\n",
       "      <td>B</td>\n",
       "      <td>290.0000</td>\n",
       "    </tr>\n",
       "    <tr>\n",
       "      <th>246</th>\n",
       "      <td>264473</td>\n",
       "      <td>B</td>\n",
       "      <td>1900.0001</td>\n",
       "    </tr>\n",
       "    <tr>\n",
       "      <th>279</th>\n",
       "      <td>274352</td>\n",
       "      <td>B</td>\n",
       "      <td>690.0000</td>\n",
       "    </tr>\n",
       "    <tr>\n",
       "      <th>...</th>\n",
       "      <td>...</td>\n",
       "      <td>...</td>\n",
       "      <td>...</td>\n",
       "    </tr>\n",
       "    <tr>\n",
       "      <th>8485</th>\n",
       "      <td>5291900</td>\n",
       "      <td>B</td>\n",
       "      <td>199.0000</td>\n",
       "    </tr>\n",
       "    <tr>\n",
       "      <th>8486</th>\n",
       "      <td>5331842</td>\n",
       "      <td>B</td>\n",
       "      <td>290.0000</td>\n",
       "    </tr>\n",
       "    <tr>\n",
       "      <th>8487</th>\n",
       "      <td>5486319</td>\n",
       "      <td>B</td>\n",
       "      <td>199.0000</td>\n",
       "    </tr>\n",
       "    <tr>\n",
       "      <th>8488</th>\n",
       "      <td>5562806</td>\n",
       "      <td>B</td>\n",
       "      <td>398.0000</td>\n",
       "    </tr>\n",
       "    <tr>\n",
       "      <th>8489</th>\n",
       "      <td>5599663</td>\n",
       "      <td>B</td>\n",
       "      <td>1900.0000</td>\n",
       "    </tr>\n",
       "  </tbody>\n",
       "</table>\n",
       "<p>541 rows × 3 columns</p>\n",
       "</div>"
      ],
      "text/plain": [
       "      student_id grp        rev\n",
       "0           1627   A   990.0000\n",
       "10        100300   B   990.0000\n",
       "12        108270   B   290.0000\n",
       "246       264473   B  1900.0001\n",
       "279       274352   B   690.0000\n",
       "...          ...  ..        ...\n",
       "8485     5291900   B   199.0000\n",
       "8486     5331842   B   290.0000\n",
       "8487     5486319   B   199.0000\n",
       "8488     5562806   B   398.0000\n",
       "8489     5599663   B  1900.0000\n",
       "\n",
       "[541 rows x 3 columns]"
      ]
     },
     "execution_count": 97,
     "metadata": {},
     "output_type": "execute_result"
    }
   ],
   "source": [
    "# создадим датафрейм с активными пользователями, выполнившими покупку\n",
    "active_pay_users=full_active_users.query(\"rev>0\")[['student_id','grp','rev']].copy()\n",
    "active_pay_users"
   ]
  },
  {
   "cell_type": "markdown",
   "id": "560ec1c8",
   "metadata": {},
   "source": [
    "1. Тест Манна -Уитни:"
   ]
  },
  {
   "cell_type": "code",
   "execution_count": 98,
   "id": "43e38818",
   "metadata": {},
   "outputs": [
    {
     "data": {
      "text/plain": [
       "MannwhitneyuResult(statistic=17862.0, pvalue=0.00019316054996380152)"
      ]
     },
     "execution_count": 98,
     "metadata": {},
     "output_type": "execute_result"
    }
   ],
   "source": [
    "stats.mannwhitneyu(active_pay_users[active_pay_users.grp == 'A'].rev, \n",
    "                   active_pay_users[active_pay_users.grp == 'B'].rev,\n",
    "                   alternative = 'two-sided')"
   ]
  },
  {
   "cell_type": "markdown",
   "id": "afcaa859",
   "metadata": {},
   "source": [
    "По результату теста Манна- Уитни, p-value:0.00019 , это говорит о том, что зона перекрещивающихся значений между ранжированными значениями рядов экспериментальных групп маленькая и мы можем отклонить нулевую гипотезу."
   ]
  },
  {
   "cell_type": "markdown",
   "id": "a2d3d3ee",
   "metadata": {},
   "source": [
    "2. Проведем Bootstrap - тест"
   ]
  },
  {
   "cell_type": "code",
   "execution_count": 99,
   "id": "8e4d9786",
   "metadata": {},
   "outputs": [
    {
     "data": {
      "application/vnd.jupyter.widget-view+json": {
       "model_id": "bd8fffa9ae204369b80fd1312b3d11ae",
       "version_major": 2,
       "version_minor": 0
      },
      "text/plain": [
       "  0%|          | 0/1000 [00:00<?, ?it/s]"
      ]
     },
     "metadata": {},
     "output_type": "display_data"
    },
    {
     "data": {
      "image/png": "[encoded data removed]",
      "text/plain": [
       "<Figure size 640x480 with 1 Axes>"
      ]
     },
     "metadata": {},
     "output_type": "display_data"
    }
   ],
   "source": [
    "# помещаем наши выборки в функцию Bootstrap (она была объявлена ранее)\n",
    "bootstrap=get_bootstrap(active_pay_users[active_pay_users.grp == 'A'].rev, \n",
    "                   active_pay_users[active_pay_users.grp == 'B'].rev)"
   ]
  },
  {
   "cell_type": "code",
   "execution_count": 100,
   "id": "d74a036f",
   "metadata": {},
   "outputs": [
    {
     "data": {
      "text/plain": [
       "0.01866996291714684"
      ]
     },
     "execution_count": 100,
     "metadata": {},
     "output_type": "execute_result"
    }
   ],
   "source": [
    "bootstrap[\"p_value\"]"
   ]
  },
  {
   "cell_type": "code",
   "execution_count": 101,
   "id": "48d158dd",
   "metadata": {},
   "outputs": [
    {
     "data": {
      "text/html": [
       "<div>\n",
       "<style scoped>\n",
       "    .dataframe tbody tr th:only-of-type {\n",
       "        vertical-align: middle;\n",
       "    }\n",
       "\n",
       "    .dataframe tbody tr th {\n",
       "        vertical-align: top;\n",
       "    }\n",
       "\n",
       "    .dataframe thead th {\n",
       "        text-align: right;\n",
       "    }\n",
       "</style>\n",
       "<table border=\"1\" class=\"dataframe\">\n",
       "  <thead>\n",
       "    <tr style=\"text-align: right;\">\n",
       "      <th></th>\n",
       "      <th>0</th>\n",
       "    </tr>\n",
       "  </thead>\n",
       "  <tbody>\n",
       "    <tr>\n",
       "      <th>0.025</th>\n",
       "      <td>-455.416361</td>\n",
       "    </tr>\n",
       "    <tr>\n",
       "      <th>0.975</th>\n",
       "      <td>-45.922200</td>\n",
       "    </tr>\n",
       "  </tbody>\n",
       "</table>\n",
       "</div>"
      ],
      "text/plain": [
       "                0\n",
       "0.025 -455.416361\n",
       "0.975  -45.922200"
      ]
     },
     "execution_count": 101,
     "metadata": {},
     "output_type": "execute_result"
    }
   ],
   "source": [
    "bootstrap[\"quants\"]"
   ]
  },
  {
   "cell_type": "markdown",
   "id": "b38a1e08",
   "metadata": {},
   "source": [
    "По результатам Bootstrap - теста мы получили небольшой p-value: 0.024 и диаппазон между 2.5 и 95.5 квантилем не содержит \"0\", это нам говорит о том, что мы можем отклонить нулевую гипотезу, а значит разница между выборками статистически значима"
   ]
  },
  {
   "cell_type": "markdown",
   "id": "b369c351",
   "metadata": {},
   "source": [
    "# Проведем анализ CR в покупку"
   ]
  },
  {
   "cell_type": "markdown",
   "id": "a96b5323",
   "metadata": {},
   "source": [
    "Для оценки критерия CR мы можем использовать критерий Хи-квадрат для сравнения категориональных переменных, то есть факт покупки (была или нет).\n",
    "Формируем гипотезы:\n",
    "- Но - CR в контрольной и тестовой группы статистически не отличается\n",
    "- Н1 - СR в контрольной и тестовой группы статистически отличается"
   ]
  },
  {
   "cell_type": "code",
   "execution_count": 102,
   "id": "bfc7e546",
   "metadata": {},
   "outputs": [],
   "source": [
    "# присвоим категории пользователям\n",
    "full_active_users['pay']=np.where(full_active_users['rev']>0, 'pay', 'no_pay')"
   ]
  },
  {
   "cell_type": "code",
   "execution_count": 103,
   "id": "b7ccc2da",
   "metadata": {},
   "outputs": [
    {
     "data": {
      "text/html": [
       "<div>\n",
       "<style scoped>\n",
       "    .dataframe tbody tr th:only-of-type {\n",
       "        vertical-align: middle;\n",
       "    }\n",
       "\n",
       "    .dataframe tbody tr th {\n",
       "        vertical-align: top;\n",
       "    }\n",
       "\n",
       "    .dataframe thead th {\n",
       "        text-align: right;\n",
       "    }\n",
       "</style>\n",
       "<table border=\"1\" class=\"dataframe\">\n",
       "  <thead>\n",
       "    <tr style=\"text-align: right;\">\n",
       "      <th>pay</th>\n",
       "      <th>no_pay</th>\n",
       "      <th>pay</th>\n",
       "    </tr>\n",
       "    <tr>\n",
       "      <th>grp</th>\n",
       "      <th></th>\n",
       "      <th></th>\n",
       "    </tr>\n",
       "  </thead>\n",
       "  <tbody>\n",
       "    <tr>\n",
       "      <th>A</th>\n",
       "      <td>1460</td>\n",
       "      <td>107</td>\n",
       "    </tr>\n",
       "    <tr>\n",
       "      <th>B</th>\n",
       "      <td>6489</td>\n",
       "      <td>434</td>\n",
       "    </tr>\n",
       "  </tbody>\n",
       "</table>\n",
       "</div>"
      ],
      "text/plain": [
       "pay  no_pay  pay\n",
       "grp             \n",
       "A      1460  107\n",
       "B      6489  434"
      ]
     },
     "execution_count": 103,
     "metadata": {},
     "output_type": "execute_result"
    }
   ],
   "source": [
    "# создадим таблицу сопряженности\n",
    "pd.crosstab(full_active_users.grp, full_active_users.pay)"
   ]
  },
  {
   "cell_type": "code",
   "execution_count": 104,
   "id": "b4635167",
   "metadata": {},
   "outputs": [
    {
     "data": {
      "text/plain": [
       "(0.579666003588264, 0.4464432666411111)"
      ]
     },
     "execution_count": 104,
     "metadata": {},
     "output_type": "execute_result"
    }
   ],
   "source": [
    "# критерий Хи-квадрат\n",
    "stat, p, dof, expected = stats.chi2_contingency(pd.crosstab(full_active_users.grp, full_active_users.pay))\n",
    "stat, p"
   ]
  },
  {
   "cell_type": "markdown",
   "id": "a510deef",
   "metadata": {},
   "source": [
    "Вывод: так как p-value: 0.4464432666411111, что больше 0.05, значит мы не можем отклонить нулевую гипотезу, и CR в контрольной и тестовой группы статистически не отличается."
   ]
  },
  {
   "cell_type": "markdown",
   "id": "b21580d0",
   "metadata": {},
   "source": [
    "# Вывод\n",
    "Результаты тестов:\n",
    "- CR в покупку: критерий Хи-квадрат: p-value: 0.44644 (не отклоняем Ho)\n",
    "- ARPAU: \n",
    "         - тест Манна-Уитни: p-value: 0.50059 (не отклоняем Ho)\n",
    "         - Bootstrap-тест: p-value: 0.3455, квантили: 0.025\t\"-32.434908\" | 0.975 \"12.270548\" (не отклоняем Ho)\n",
    "- ARPPU: \n",
    "         - тест Манна-Уитни: p-value: 0.000193 (отклоняем Ho)\n",
    "         - Bootstrap-тест: p-value: 0.01866, квантили: 0.025\t\"-455.416361\" | 0.975\t\"-45.922200\" (отклоняем Ho)\n",
    "         \n",
    "По результатам тестов можно сделать вывод, что CR и ARPAU статистически значимо не отличаются, новая фича не повлияла на эти показатели. На ARPPU новая фича сработала и при этом улучшила его показатели. Из чего можно сделать вывод, что мы можем выкатить новую фичу на всех пользователях."
   ]
  },
  {
   "cell_type": "markdown",
   "id": "0b2fab40",
   "metadata": {},
   "source": [
    "# 2. SQL"
   ]
  },
  {
   "cell_type": "markdown",
   "id": "744325e3",
   "metadata": {},
   "source": [
    "# 2.1 Очень усердные ученики"
   ]
  },
  {
   "cell_type": "markdown",
   "id": "de0a2c19",
   "metadata": {},
   "source": [
    "Необходимо написать запрос, который даст информацию о количестве очень усердных студентов за текущий месяц (правильно решил 20 задач за текущий месяц)"
   ]
  },
  {
   "cell_type": "code",
   "execution_count": 105,
   "id": "a0c74368",
   "metadata": {},
   "outputs": [],
   "source": [
    "# задаем параметры для соединения с Clickhouse\n",
    "connection_default = {'host': '',\n",
    "                      'database':'default',\n",
    "                      'user':'', \n",
    "                      'password':''\n",
    "                     }"
   ]
  },
  {
   "cell_type": "code",
   "execution_count": 106,
   "id": "bca722f9",
   "metadata": {},
   "outputs": [
    {
     "data": {
      "text/html": [
       "<div>\n",
       "<style scoped>\n",
       "    .dataframe tbody tr th:only-of-type {\n",
       "        vertical-align: middle;\n",
       "    }\n",
       "\n",
       "    .dataframe tbody tr th {\n",
       "        vertical-align: top;\n",
       "    }\n",
       "\n",
       "    .dataframe thead th {\n",
       "        text-align: right;\n",
       "    }\n",
       "</style>\n",
       "<table border=\"1\" class=\"dataframe\">\n",
       "  <thead>\n",
       "    <tr style=\"text-align: right;\">\n",
       "      <th></th>\n",
       "      <th>count_students</th>\n",
       "    </tr>\n",
       "  </thead>\n",
       "  <tbody>\n",
       "    <tr>\n",
       "      <th>0</th>\n",
       "      <td>0</td>\n",
       "    </tr>\n",
       "  </tbody>\n",
       "</table>\n",
       "</div>"
      ],
      "text/plain": [
       "   count_students\n",
       "0               0"
      ]
     },
     "execution_count": 106,
     "metadata": {},
     "output_type": "execute_result"
    }
   ],
   "source": [
    "# формируем запрос о количестве усердных студентов\n",
    "q= '''select count(st_id) count_students\n",
    "      from (select st_id\n",
    "            from default.peas\n",
    "            where correct = 1 and toStartOfMonth(timest) = toStartOfMonth(today())\n",
    "            group by st_id\n",
    "            having count(correct) >=20)\n",
    "        '''\n",
    "count_active_students = ph.read_clickhouse(q, connection=connection_default)\n",
    "count_active_students"
   ]
  },
  {
   "cell_type": "markdown",
   "id": "cc037891",
   "metadata": {},
   "source": [
    "Сейчас этот запрос выдает \"0\" количество студентов, так как за текущий месяц (март 2023) нет данных. Так как в данных есть информация за октябрь 2021, для тестирования запроса установим эту дату."
   ]
  },
  {
   "cell_type": "code",
   "execution_count": 107,
   "id": "ba348641",
   "metadata": {},
   "outputs": [
    {
     "data": {
      "text/html": [
       "<div>\n",
       "<style scoped>\n",
       "    .dataframe tbody tr th:only-of-type {\n",
       "        vertical-align: middle;\n",
       "    }\n",
       "\n",
       "    .dataframe tbody tr th {\n",
       "        vertical-align: top;\n",
       "    }\n",
       "\n",
       "    .dataframe thead th {\n",
       "        text-align: right;\n",
       "    }\n",
       "</style>\n",
       "<table border=\"1\" class=\"dataframe\">\n",
       "  <thead>\n",
       "    <tr style=\"text-align: right;\">\n",
       "      <th></th>\n",
       "      <th>count_students</th>\n",
       "    </tr>\n",
       "  </thead>\n",
       "  <tbody>\n",
       "    <tr>\n",
       "      <th>0</th>\n",
       "      <td>136</td>\n",
       "    </tr>\n",
       "  </tbody>\n",
       "</table>\n",
       "</div>"
      ],
      "text/plain": [
       "   count_students\n",
       "0             136"
      ]
     },
     "execution_count": 107,
     "metadata": {},
     "output_type": "execute_result"
    }
   ],
   "source": [
    "q_test= '''select count(st_id) count_students\n",
    "      from (select st_id\n",
    "            from default.peas\n",
    "            where correct = 1 and toStartOfMonth(timest) = toStartOfMonth('2021/10/01'::date)\n",
    "            group by st_id\n",
    "            having count(correct) >=20)\n",
    "        '''\n",
    "count_active_students_test = ph.read_clickhouse(q_test, connection=connection_default)\n",
    "count_active_students_test"
   ]
  },
  {
   "cell_type": "markdown",
   "id": "cae0528d",
   "metadata": {},
   "source": [
    "Вывод: Тестовый запрос выдал количество усердных студентов за октябрь 2021: 136 человек."
   ]
  },
  {
   "cell_type": "markdown",
   "id": "f3ea0365",
   "metadata": {},
   "source": [
    "# 2.2 Оптимизация воронки"
   ]
  },
  {
   "cell_type": "markdown",
   "id": "6ae60dea",
   "metadata": {},
   "source": [
    "Образовательная платформа предлагает пройти студентам курсы по модели trial: студент может решить бесплатно лишь 30 горошин в день. Для неограниченного количества заданий в определенной дисциплине студенту необходимо приобрести полный доступ. Команда провела эксперимент, где был протестирован новый экран оплаты. \n",
    "\n",
    "Необходимо в одном запросе выгрузить следующую информацию о группах пользователей:\n",
    "\n",
    "- ARPU \n",
    "- ARPAU \n",
    "- CR в покупку \n",
    "- СR активного пользователя в покупку \n",
    "- CR пользователя из активности по математике (subject = ’Math’) в покупку курса по математике\n",
    "- ARPU считается относительно всех пользователей, попавших в группы.\n",
    "\n",
    "Активным считается пользователь, за все время решивший больше 10 задач правильно в любых дисциплинах.\n",
    "\n",
    "Активным по математике считается пользователь, за все время решивший 2 или больше задач правильно по математике."
   ]
  },
  {
   "cell_type": "code",
   "execution_count": 108,
   "id": "df25faa1",
   "metadata": {},
   "outputs": [
    {
     "data": {
      "text/html": [
       "<div>\n",
       "<style scoped>\n",
       "    .dataframe tbody tr th:only-of-type {\n",
       "        vertical-align: middle;\n",
       "    }\n",
       "\n",
       "    .dataframe tbody tr th {\n",
       "        vertical-align: top;\n",
       "    }\n",
       "\n",
       "    .dataframe thead th {\n",
       "        text-align: right;\n",
       "    }\n",
       "</style>\n",
       "<table border=\"1\" class=\"dataframe\">\n",
       "  <thead>\n",
       "    <tr style=\"text-align: right;\">\n",
       "      <th></th>\n",
       "      <th>test_grp</th>\n",
       "      <th>ARPU</th>\n",
       "      <th>ARPAU</th>\n",
       "      <th>CR_buy</th>\n",
       "      <th>CR_active_buy</th>\n",
       "      <th>CR_active_buy_math</th>\n",
       "    </tr>\n",
       "  </thead>\n",
       "  <tbody>\n",
       "    <tr>\n",
       "      <th>0</th>\n",
       "      <td>control</td>\n",
       "      <td>4540.983607</td>\n",
       "      <td>10905.511811</td>\n",
       "      <td>0.059016</td>\n",
       "      <td>0.141732</td>\n",
       "      <td>0.163265</td>\n",
       "    </tr>\n",
       "    <tr>\n",
       "      <th>1</th>\n",
       "      <td>pilot</td>\n",
       "      <td>11508.474576</td>\n",
       "      <td>35364.583333</td>\n",
       "      <td>0.145763</td>\n",
       "      <td>0.447917</td>\n",
       "      <td>0.380952</td>\n",
       "    </tr>\n",
       "  </tbody>\n",
       "</table>\n",
       "</div>"
      ],
      "text/plain": [
       "  test_grp          ARPU         ARPAU    CR_buy  CR_active_buy  \\\n",
       "0  control   4540.983607  10905.511811  0.059016       0.141732   \n",
       "1    pilot  11508.474576  35364.583333  0.145763       0.447917   \n",
       "\n",
       "   CR_active_buy_math  \n",
       "0            0.163265  \n",
       "1            0.380952  "
      ]
     },
     "execution_count": 108,
     "metadata": {},
     "output_type": "execute_result"
    }
   ],
   "source": [
    "# формируем запрос с данными метрик и групп\n",
    "query_metrics=  '''with all_studets_by_group as (select test_grp, count(st_id) all_students\n",
    "                                        from default.studs\n",
    "                                        group by test_grp),\n",
    "\n",
    "\n",
    "                    active_studets_by_group as (select test_grp, count(st_id) active_students \n",
    "                                                    from\n",
    "                                                        (select test_grp, st_id\n",
    "                                                            from default.peas as A\n",
    "                                                            left join default.studs as B\n",
    "                                                            on A.st_id=B.st_id\n",
    "                                                        where correct = 1\n",
    "                                                        group by test_grp, st_id\n",
    "                                                        having count(correct) > 10)\n",
    "                                                    group by test_grp),\n",
    "\n",
    "                    active_math_studets_by_group as (select test_grp, count(st_id) active_math_students \n",
    "                                                        from\n",
    "                                                            (select test_grp, st_id\n",
    "                                                                from default.peas as A\n",
    "                                                                left join default.studs as B\n",
    "                                                                on A.st_id=B.st_id\n",
    "                                                            where correct = 1 and subject = 'Math'\n",
    "                                                            group by test_grp, st_id\n",
    "                                                            having count(correct) >= 2)\n",
    "                                                        group by test_grp),\n",
    "\n",
    "                    all_revenue as (select test_grp, sum(money) revenue\n",
    "                                                from default.final_project_check as A\n",
    "                                                left join default.studs as B\n",
    "                                                on A.st_id=B.st_id\n",
    "                                            group by test_grp),\n",
    "\n",
    "                    count_buy as    (select test_grp, count(st_id) count_buy  \n",
    "                                                from default.final_project_check as A\n",
    "                                                left join default.studs as B\n",
    "                                                on A.st_id=B.st_id\n",
    "                                            group by test_grp),\n",
    "\n",
    "                    count_buy_math as  (select test_grp, count(st_id) count_buy_math\n",
    "                                                from default.final_project_check as A\n",
    "                                                left join default.studs as B\n",
    "                                                on A.st_id=B.st_id\n",
    "                                            where subject = 'Math'\n",
    "                                            group by test_grp)\n",
    "\n",
    "                    select \n",
    "                        (A.test_grp) test_grp,\n",
    "                        (D.revenue/A.all_students) ARPU,\n",
    "                        (D.revenue/B.active_students) ARPAU,\n",
    "                        (E.count_buy/A.all_students) CR_buy,\n",
    "                        (E.count_buy/B.active_students) CR_active_buy,\n",
    "                        (F.count_buy_math/C.active_math_students) CR_active_buy_math\n",
    "                    from all_studets_by_group as A\n",
    "                    left join active_studets_by_group as B on A.test_grp= B.test_grp\n",
    "                    left join active_math_studets_by_group as C on A.test_grp= C.test_grp\n",
    "                    left join all_revenue as D on A.test_grp= D.test_grp\n",
    "                    left join count_buy as E on A.test_grp= E.test_grp\n",
    "                    left join count_buy_math as F on A.test_grp= F.test_grp\n",
    "                    '''\n",
    "\n",
    "metrics_sql = ph.read_clickhouse(query_metrics, connection=connection_default)\n",
    "metrics_sql"
   ]
  },
  {
   "cell_type": "markdown",
   "id": "90a00330",
   "metadata": {},
   "source": [
    "# Вывод:\n",
    "Исходя из результатов эксперимента по изменению экрана оплаты в тестовой группе мы получили прирост всех метрик:\n",
    "- ARPU увеличился в 2.5 раза, \n",
    "- ARPPU увеличился в 3.2 раза, \n",
    "- CR в покупку увеличился в 2.9 раза, \n",
    "- СR активного пользователя в покупку увеличился в 3.1 раз, \n",
    "- CR пользователя из активности по математике увеличился в 2.3 раза."
   ]
  },
  {
   "cell_type": "markdown",
   "id": "2ec020d6",
   "metadata": {},
   "source": [
    "# Задание 3. Python"
   ]
  },
  {
   "cell_type": "markdown",
   "id": "9c380de8",
   "metadata": {},
   "source": [
    "# 3.1 Реализуйте функцию\n",
    "Функция будет автоматически подгружать информацию из дополнительного файла groups_add.csv (заголовки могут отличаться) и на основании дополнительных параметров пересчитывать метрики."
   ]
  },
  {
   "cell_type": "code",
   "execution_count": 109,
   "id": "b6fe55ec",
   "metadata": {},
   "outputs": [],
   "source": [
    "def get_add(groups, groups_add, active_studs, checks):\n",
    "    \"\"\"функция get_add принимает 4 файла на вход, в том числе groups_add, который нам необходим.\n",
    "    \n",
    "    Функция присваивает названия колонок \"groups_add\" в соответствии с \"groups\". \n",
    "    Далее объединяются \"groups\", \"groups_add\" и \"checks\", если есть пропущенные значения в суммах оплат, то проставляется \"0\". \n",
    "    Прежде чем добавить файл \"active_studs\" к датафрейму groups_checks, делается пометка \"yes\", что пользователи активны.\n",
    "    Добавляются \"active_studs\" к \"groups_checks\", у неактивных пользователей ставится пометка \"no\". В почти окончательном \n",
    "    датафрейме \"groups_checks_full\" отбираются активные пользователей и неактивные, но у которых прошла оплата.\n",
    "    Эти группы пользователей соединяются в датафрейм full_active_users, который берется за основу в дальнейшем.\n",
    "    Далее выполняется расчет метрик.\n",
    "    \"\"\"\n",
    "    groups_add.columns = groups.columns\n",
    "    all_groups=pd.concat([groups, groups_add]).reset_index().drop(columns=['index']).rename(columns={'id': 'student_id'})\n",
    "    groups_checks=all_groups.merge(checks, how='left', on='student_id')\n",
    "    groups_checks['rev'] = groups_checks['rev'].replace(np.nan, 0)\n",
    "    active_studs['active']='yes'\n",
    "    groups_checks_full=groups_checks.merge(active_studs, how='left', on='student_id')\n",
    "    groups_checks_full['active'] = groups_checks_full['active'].replace(np.nan, 'no')\n",
    "    lost=groups_checks_full.query(\"active=='no'\").query('rev>0')\n",
    "    active=groups_checks_full.query(\"active=='yes'\")\n",
    "    full_active_users=pd.concat([active,lost]).reset_index().drop(columns=['index'])\n",
    "    \n",
    "    A_users_w_revenue=full_active_users.query(\"grp == 'A'\").query('rev>0')\n",
    "    B_users_w_revenue=full_active_users.query(\"grp == 'B'\").query('rev>0')\n",
    "    A_users_count=full_active_users.query(\"grp == 'A'\").student_id.count()\n",
    "    B_users_count=full_active_users.query(\"grp == 'B'\").student_id.count()\n",
    "    \n",
    "    Revenue_A=(A_users_w_revenue.agg({'rev':sum})).rev\n",
    "    Revenue_B=(B_users_w_revenue.agg({'rev':sum})).rev\n",
    "    ARPAU_A=Revenue_A/A_users_count\n",
    "    ARPAU_B=Revenue_B/B_users_count\n",
    "    ARPPU_A=Revenue_A/A_users_w_revenue.student_id.count()\n",
    "    ARPPU_B=Revenue_B/B_users_w_revenue.student_id.count()\n",
    "    CR_buy_A=A_users_w_revenue.student_id.count()/A_users_count\n",
    "    CR_buy_B=B_users_w_revenue.student_id.count()/B_users_count\n",
    " \n",
    "    \n",
    "    metrics=full_active_users.groupby('grp').student_id.count().reset_index().rename(columns={'student_id':'count'})\n",
    "    metrics['ARPAU']=[ARPAU_A, ARPAU_B]\n",
    "    metrics['ARPPU']=[ARPPU_A, ARPPU_B]\n",
    "    metrics['CR_buy']=[CR_buy_A, CR_buy_B]\n",
    "    metrics['Revenue']=[Revenue_A, Revenue_B]\n",
    "    return metrics.round(4)"
   ]
  },
  {
   "cell_type": "code",
   "execution_count": 110,
   "id": "f8d29235",
   "metadata": {},
   "outputs": [
    {
     "data": {
      "text/html": [
       "<div>\n",
       "<style scoped>\n",
       "    .dataframe tbody tr th:only-of-type {\n",
       "        vertical-align: middle;\n",
       "    }\n",
       "\n",
       "    .dataframe tbody tr th {\n",
       "        vertical-align: top;\n",
       "    }\n",
       "\n",
       "    .dataframe thead th {\n",
       "        text-align: right;\n",
       "    }\n",
       "</style>\n",
       "<table border=\"1\" class=\"dataframe\">\n",
       "  <thead>\n",
       "    <tr style=\"text-align: right;\">\n",
       "      <th></th>\n",
       "      <th>grp</th>\n",
       "      <th>count</th>\n",
       "      <th>ARPAU</th>\n",
       "      <th>ARPPU</th>\n",
       "      <th>CR_buy</th>\n",
       "      <th>Revenue</th>\n",
       "    </tr>\n",
       "  </thead>\n",
       "  <tbody>\n",
       "    <tr>\n",
       "      <th>0</th>\n",
       "      <td>A</td>\n",
       "      <td>1567</td>\n",
       "      <td>58.7722</td>\n",
       "      <td>860.7103</td>\n",
       "      <td>0.0683</td>\n",
       "      <td>92096.0000</td>\n",
       "    </tr>\n",
       "    <tr>\n",
       "      <th>1</th>\n",
       "      <td>B</td>\n",
       "      <td>6923</td>\n",
       "      <td>69.5118</td>\n",
       "      <td>1108.8249</td>\n",
       "      <td>0.0627</td>\n",
       "      <td>481230.0036</td>\n",
       "    </tr>\n",
       "  </tbody>\n",
       "</table>\n",
       "</div>"
      ],
      "text/plain": [
       "  grp  count    ARPAU      ARPPU  CR_buy      Revenue\n",
       "0   A   1567  58.7722   860.7103  0.0683   92096.0000\n",
       "1   B   6923  69.5118  1108.8249  0.0627  481230.0036"
      ]
     },
     "execution_count": 110,
     "metadata": {},
     "output_type": "execute_result"
    }
   ],
   "source": [
    "get_add(groups, groups_add, active_studs, checks)"
   ]
  },
  {
   "cell_type": "markdown",
   "id": "f2568f04",
   "metadata": {},
   "source": [
    "# 3.2 Реализуйте функцию\n",
    "Функция будет строить графики по получаемым метрикам."
   ]
  },
  {
   "cell_type": "code",
   "execution_count": 111,
   "id": "cad70b1b",
   "metadata": {},
   "outputs": [],
   "source": [
    "def get_plots(get_add):\n",
    "    \"\"\"функция get_plots визуализирует метрики по группам пользователей\"\"\"\n",
    "    fig, axs = plt.subplots(ncols=4, figsize=(20, 8))\n",
    "    sns.barplot(x='grp', y='Revenue', data=get_add,ax=axs[0]).set_title('Revenue')\n",
    "    sns.barplot(x='grp', y='ARPAU', data=get_add,ax=axs[1]).set_title('ARPAU')\n",
    "    sns.barplot(x='grp', y='ARPPU', data=get_add,ax=axs[2]).set_title('ARPPU')\n",
    "    sns.barplot(x='grp', y='CR_buy', data=get_add,ax=axs[3]).set_title('CR buy')"
   ]
  },
  {
   "cell_type": "code",
   "execution_count": 112,
   "id": "e3b41efc",
   "metadata": {},
   "outputs": [
    {
     "data": {
      "image/png": "[encoded data removed]",
      "text/plain": [
       "<Figure size 2000x800 with 4 Axes>"
      ]
     },
     "metadata": {},
     "output_type": "display_data"
    }
   ],
   "source": [
    "get_plots(get_add(groups, groups_add, active_studs, checks))"
   ]
  },
  {
   "cell_type": "code",
   "execution_count": null,
   "id": "f5724497",
   "metadata": {},
   "outputs": [],
   "source": []
  }
 ],
 "metadata": {
  "kernelspec": {
   "display_name": "Python 3 (ipykernel)",
   "language": "python",
   "name": "python3"
  },
  "language_info": {
   "codemirror_mode": {
    "name": "ipython",
    "version": 3
   },
   "file_extension": ".py",
   "mimetype": "text/x-python",
   "name": "python",
   "nbconvert_exporter": "python",
   "pygments_lexer": "ipython3",
   "version": "3.9.13"
  }
 },
 "nbformat": 4,
 "nbformat_minor": 5
}
